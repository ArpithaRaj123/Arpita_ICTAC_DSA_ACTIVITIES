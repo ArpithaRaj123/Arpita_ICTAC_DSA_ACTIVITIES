{
 "cells": [
  {
   "cell_type": "code",
   "execution_count": 2,
   "id": "5685f77e",
   "metadata": {},
   "outputs": [
    {
     "name": "stdout",
     "output_type": "stream",
     "text": [
      "...PASSWORD PICKER...\n",
      " YOUR PASSWORD  IS :  tastyregret82+\n"
     ]
    }
   ],
   "source": [
    "import random\n",
    "import string\n",
    "adjectives=['bitter', 'beautiful','delicious', 'fruity', 'ginger',\n",
    "            'minty', 'pickled', 'salty',' sour', 'spicy', 'sweet', 'tasty', 'yummy']\n",
    "nouns=['advice', 'life', 'power', 'team', 'villege', 'army', 'regret', 'keyboard', 'sunlight', 'book', 'eyes', 'air']\n",
    "number=list(range(0,100))\n",
    "special_char=['!', '@', '#', '$', '%', '^', '&', '*', ':', '=', '-', '+', '?', '<', '>']\n",
    "adv=random.choice(adjectives)\n",
    "noun=random.choice(nouns)\n",
    "num=random.choice(number)\n",
    "spl_char=random.choice(special_char)\n",
    "password=adv+noun+str(num)+spl_char\n",
    "print(\"...PASSWORD PICKER...\")\n",
    "print(\" YOUR PASSWORD  IS : \",password)"
   ]
  },
  {
   "cell_type": "code",
   "execution_count": null,
   "id": "5a516b4a",
   "metadata": {},
   "outputs": [],
   "source": []
  }
 ],
 "metadata": {
  "kernelspec": {
   "display_name": "Python 3",
   "language": "python",
   "name": "python3"
  },
  "language_info": {
   "codemirror_mode": {
    "name": "ipython",
    "version": 3
   },
   "file_extension": ".py",
   "mimetype": "text/x-python",
   "name": "python",
   "nbconvert_exporter": "python",
   "pygments_lexer": "ipython3",
   "version": "3.8.8"
  }
 },
 "nbformat": 4,
 "nbformat_minor": 5
}
